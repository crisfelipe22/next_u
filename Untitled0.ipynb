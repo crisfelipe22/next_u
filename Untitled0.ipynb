{
  "nbformat": 4,
  "nbformat_minor": 0,
  "metadata": {
    "colab": {
      "name": "Untitled0.ipynb",
      "provenance": [],
      "authorship_tag": "ABX9TyMf7pgeFG+l1r0LFvXS9k+T",
      "include_colab_link": true
    },
    "kernelspec": {
      "name": "python3",
      "display_name": "Python 3"
    },
    "language_info": {
      "name": "python"
    }
  },
  "cells": [
    {
      "cell_type": "markdown",
      "metadata": {
        "id": "view-in-github",
        "colab_type": "text"
      },
      "source": [
        "<a href=\"https://colab.research.google.com/github/crisfelipe22/next_u/blob/master/Untitled0.ipynb\" target=\"_parent\"><img src=\"https://colab.research.google.com/assets/colab-badge.svg\" alt=\"Open In Colab\"/></a>"
      ]
    },
    {
      "cell_type": "code",
      "metadata": {
        "colab": {
          "base_uri": "https://localhost:8080/"
        },
        "id": "6Y9r9QLiyZb1",
        "outputId": "0bc27118-3a54-4a5b-d14c-7ae71b18a4ad"
      },
      "source": [
        "#entrada\n",
        "precio_leche=int(input(\"Por favor ingrese el precio de la leche \"))\n",
        "\n",
        "#proceso\n",
        "precio_arroz=int(2*(precio_leche-4))\n",
        "precio_cafe=int((precio_arroz+precio_leche)/5)\n",
        "\n",
        "\n",
        "#salida\n",
        "print(str(precio_leche)+\" \"+str(precio_arroz)+\" \"+str(precio_cafe))\n",
        "\n",
        "if(0<=precio_cafe<=20):\n",
        "  print(\"uno\")\n",
        "elif(21<=precio_cafe<=30):\n",
        "  print(\"dos\")\n",
        "elif(31<=precio_cafe<=50):\n",
        "  print(\"tres\")\n",
        "elif(precio_cafe>50):\n",
        "  print(\"cuatro\")"
      ],
      "execution_count": 1,
      "outputs": [
        {
          "output_type": "stream",
          "text": [
            "Por favor ingrese el precio de la leche 2500\n",
            "2500 4992 1498\n",
            "cuatro\n"
          ],
          "name": "stdout"
        }
      ]
    }
  ]
}